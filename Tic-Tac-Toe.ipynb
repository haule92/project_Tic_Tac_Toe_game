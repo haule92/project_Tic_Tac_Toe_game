{
 "cells": [
  {
   "cell_type": "code",
   "execution_count": 1,
   "metadata": {},
   "outputs": [],
   "source": [
    "#Define the grid and coordinates\n",
    "import random"
   ]
  },
  {
   "cell_type": "code",
   "execution_count": 2,
   "metadata": {},
   "outputs": [],
   "source": [
    "def print_updated_grid():\n",
    "    for i in grid:\n",
    "        print(i)\n",
    "    print(\"\\n\")"
   ]
  },
  {
   "cell_type": "code",
   "execution_count": 3,
   "metadata": {},
   "outputs": [],
   "source": [
    "def func_random():\n",
    "    x = random.choice(coordinates)\n",
    "    return x"
   ]
  },
  {
   "cell_type": "code",
   "execution_count": 4,
   "metadata": {},
   "outputs": [],
   "source": [
    "def select_move_player():\n",
    "    for x in range (3):\n",
    "        select_row = input(\"Enter your choice: (type 0,1 or 2 for rows coordinates) you have 3 tries if not you lose your round: \")\n",
    "        select_column = input(\"Enter your choice: (type 0,1 or 2 for columns coordinates) you have 3 tries if not you lose your round: \")\n",
    "        if select_row and select_column in coordinates:\n",
    "            r = int(select_row)\n",
    "            c = int(select_column)\n",
    "            if grid[r][c] == \" \":\n",
    "                grid[r][c] = \"X\"\n",
    "                return r,c\n",
    "            else:\n",
    "                print(\"This spot is full\")\n",
    "        else:\n",
    "            print(\"Try again\")"
   ]
  },
  {
   "cell_type": "code",
   "execution_count": 5,
   "metadata": {},
   "outputs": [],
   "source": [
    "def select_move_machine():\n",
    "    for x in range (10):\n",
    "        select_row = func_random()\n",
    "        select_column = func_random()\n",
    "        if select_row and select_column in coordinates:\n",
    "            r = int(select_row)\n",
    "            c = int(select_column)\n",
    "            if grid[r][c] == \" \":\n",
    "                grid[r][c] = \"O\"\n",
    "                return r,c\n",
    "        else:\n",
    "            print(\"Try again\")"
   ]
  },
  {
   "cell_type": "code",
   "execution_count": 6,
   "metadata": {},
   "outputs": [],
   "source": [
    "def checking_winner():\n",
    "    for i in to_win_comb:\n",
    "        if i == winner_comb_player:\n",
    "            print(\"Player won\")\n",
    "        elif i == winner_comb_machine:\n",
    "            print(\"Machine won\")"
   ]
  },
  {
   "cell_type": "code",
   "execution_count": 7,
   "metadata": {},
   "outputs": [],
   "source": [
    "def check_hor():\n",
    "    a = \"over\"\n",
    "    for i in grid:\n",
    "        c0 = i[0]\n",
    "        c1 = i[1]\n",
    "        c2 = i[2]   \n",
    "        if c0 == c1 == c2 and (c0 != \" \") and (c1 != \" \") and (c2 != \" \") and (c0 == \"X\") and (c1 == \"X\") and (c2 == \"X\"):\n",
    "            print(\"player WIN horizontal\")\n",
    "            return a\n",
    "        elif c0 == c1 == c2 and (c0 != \" \") and (c1 != \" \") and (c2 != \" \") and (c0 == \"O\") and (c1 == \"O\") and (c2 == \"O\"):\n",
    "            print(\"machine WIN horizontal\")\n",
    "            return a"
   ]
  },
  {
   "cell_type": "code",
   "execution_count": 8,
   "metadata": {},
   "outputs": [],
   "source": [
    "def check_ver():\n",
    "    a = \"over\"\n",
    "    lst0 = []\n",
    "    lst1 = []\n",
    "    lst2 = []\n",
    "    for i in grid:\n",
    "        lst0.append(i[0])\n",
    "        lst1.append(i[1])\n",
    "        lst2.append(i[2])\n",
    "    provi = [lst0,lst1,lst2]\n",
    "    for i in provi:\n",
    "        c0 = i[0]\n",
    "        c1 = i[1]\n",
    "        c2 = i[2]   \n",
    "        if c0 == c1 == c2 and (c0 != \" \") and (c1 != \" \") and (c2 != \" \") and (c0 == \"X\") and (c1 == \"X\") and (c2 == \"X\"):\n",
    "            print(\"player WIN vertical\")\n",
    "            return a\n",
    "        elif c0 == c1 == c2 and (c0 != \" \") and (c1 != \" \") and (c2 != \" \") and (c0 == \"O\") and (c1 == \"O\") and (c2 == \"O\"):\n",
    "            print(\"machine WIN vertical\")\n",
    "            return a"
   ]
  },
  {
   "cell_type": "code",
   "execution_count": 9,
   "metadata": {},
   "outputs": [],
   "source": [
    "def check_diag():\n",
    "    a = \"over\"\n",
    "    d0 = grid[0][0]\n",
    "    d1 = grid[1][1]\n",
    "    d2 = grid[2][2]\n",
    "    if d0 == d1 == d2 and (d0 != \" \") and (d1 != \" \") and (d2 != \" \") and (d0 == \"X\") and (d1 == \"X\") and (d2 == \"X\"):\n",
    "            print(\"player WIN diagonal\")\n",
    "            return a\n",
    "    elif d0 == d1 == d2 and (d0 != \" \") and (d1 != \" \") and (d2 != \" \") and (d0 == \"O\") and (d1 == \"O\") and (d2 == \"O\"):\n",
    "            print(\"machine WIN diagonal\")\n",
    "            return a"
   ]
  },
  {
   "cell_type": "code",
   "execution_count": 10,
   "metadata": {},
   "outputs": [],
   "source": [
    "def check_diag2():\n",
    "    a = \"over\"\n",
    "    d0 = grid[2][0]\n",
    "    d1 = grid[1][1]\n",
    "    d2 = grid[0][2]\n",
    "    if d0 == d1 == d2 and (d0 != \" \") and (d1 != \" \") and (d2 != \" \") and (d0 == \"X\") and (d1 == \"X\") and (d2 == \"X\"):\n",
    "            print(\"player WIN diagonal\")\n",
    "            return a\n",
    "    elif d0 == d1 == d2 and (d0 != \" \") and (d1 != \" \") and (d2 != \" \") and (d0 == \"O\") and (d1 == \"O\") and (d2 == \"O\"):\n",
    "            print(\"machine WIN diagonal\")\n",
    "            return a"
   ]
  },
  {
   "cell_type": "code",
   "execution_count": 11,
   "metadata": {},
   "outputs": [],
   "source": [
    "def main():\n",
    "    print(\"Welcome to the Tic-Tac-Toe game\")\n",
    "    for i in range(5):\n",
    "        select_move_player()\n",
    "        print_updated_grid()\n",
    "        a = check_hor()\n",
    "        b = check_ver()\n",
    "        c = check_diag()\n",
    "        d = check_diag2()\n",
    "        if a or b or c or d == \"over\":\n",
    "            break\n",
    "        select_move_machine()\n",
    "        print_updated_grid()\n",
    "        e = check_hor()\n",
    "        f = check_ver()\n",
    "        g = check_diag()\n",
    "        h = check_diag2()\n",
    "        if e or f or g or h == \"over\":\n",
    "            break\n",
    "        "
   ]
  },
  {
   "cell_type": "code",
   "execution_count": 12,
   "metadata": {},
   "outputs": [
    {
     "name": "stdout",
     "output_type": "stream",
     "text": [
      "Do you want to play Tic-Tac-Toe game? [y/n]: if you write another letter the game endsy\n",
      "Welcome to the Tic-Tac-Toe game\n",
      "Enter your choice: (type 0,1 or 2 for rows coordinates) you have 3 tries if not you lose your round: 1\n",
      "Enter your choice: (type 0,1 or 2 for columns coordinates) you have 3 tries if not you lose your round: 1\n",
      "[' ', ' ', ' ']\n",
      "[' ', 'X', ' ']\n",
      "[' ', ' ', ' ']\n",
      "\n",
      "\n",
      "[' ', ' ', ' ']\n",
      "[' ', 'X', 'O']\n",
      "[' ', ' ', ' ']\n",
      "\n",
      "\n",
      "Enter your choice: (type 0,1 or 2 for rows coordinates) you have 3 tries if not you lose your round: 0\n",
      "Enter your choice: (type 0,1 or 2 for columns coordinates) you have 3 tries if not you lose your round: 0\n",
      "['X', ' ', ' ']\n",
      "[' ', 'X', 'O']\n",
      "[' ', ' ', ' ']\n",
      "\n",
      "\n",
      "['X', ' ', ' ']\n",
      "[' ', 'X', 'O']\n",
      "[' ', 'O', ' ']\n",
      "\n",
      "\n",
      "Enter your choice: (type 0,1 or 2 for rows coordinates) you have 3 tries if not you lose your round: 2\n",
      "Enter your choice: (type 0,1 or 2 for columns coordinates) you have 3 tries if not you lose your round: 2\n",
      "['X', ' ', ' ']\n",
      "[' ', 'X', 'O']\n",
      "[' ', 'O', 'X']\n",
      "\n",
      "\n",
      "player WIN vertical\n"
     ]
    }
   ],
   "source": [
    "for i in range(3):\n",
    "    for i in range(5):\n",
    "        answer = input(\"Do you want to play Tic-Tac-Toe game? [y/n]: if you write another letter the game ends\")\n",
    "        if answer == \"y\":\n",
    "            \n",
    "            grid = [[\" \",\" \",\" \"],\n",
    "                    [\" \",\" \",\" \"],\n",
    "                    [\" \",\" \",\" \"]]\n",
    "            \n",
    "            coordinates = [\"0\",\"1\",\"2\"]\n",
    "            \n",
    "            main()\n",
    "\n",
    "        elif answer == \"n\":\n",
    "            break\n",
    "        break\n",
    "    break"
   ]
  },
  {
   "cell_type": "code",
   "execution_count": null,
   "metadata": {},
   "outputs": [],
   "source": [
    "\n"
   ]
  }
 ],
 "metadata": {
  "kernelspec": {
   "display_name": "Python 3",
   "language": "python",
   "name": "python3"
  },
  "language_info": {
   "codemirror_mode": {
    "name": "ipython",
    "version": 3
   },
   "file_extension": ".py",
   "mimetype": "text/x-python",
   "name": "python",
   "nbconvert_exporter": "python",
   "pygments_lexer": "ipython3",
   "version": "3.6.8"
  }
 },
 "nbformat": 4,
 "nbformat_minor": 2
}
